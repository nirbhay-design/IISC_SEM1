{
 "cells": [
  {
   "cell_type": "code",
   "execution_count": 2,
   "metadata": {},
   "outputs": [],
   "source": [
    "import numpy as np \n",
    "import matplotlib.pyplot as plt "
   ]
  },
  {
   "cell_type": "markdown",
   "metadata": {},
   "source": [
    "### **Que-1**\n",
    "\n",
    "We use the following equation to solve the linear regression model\n",
    "\n",
    "given X,y we write the optimization problem as \n",
    "\n",
    "$$\n",
    "\\min_{\\beta} \\frac{1}{2} ||X\\beta - y||^2\n",
    "$$\n",
    "\n",
    "$$\n",
    "\\beta^* = (X^TX)^{-1}X^Ty\n",
    "$$"
   ]
  },
  {
   "cell_type": "code",
   "execution_count": 80,
   "metadata": {},
   "outputs": [],
   "source": [
    "def read_regression_file(fn):\n",
    "    with open(fn, 'r') as f:\n",
    "        nf, ny = list(map(lambda x: int(x), f.readline().split(\" \")))\n",
    "        dv = []\n",
    "        for dl in f.readlines()[1:]:\n",
    "            dl = dl.replace(\"\\n\", \"\").split(\",\")\n",
    "            fdl = [float(i) for i in dl]\n",
    "            dv.append(fdl)\n",
    "        dv = np.array(dv)\n",
    "        x, y = dv[:, :nf], dv[:, -ny:]\n",
    "        return x, y \n",
    "\n",
    "def get_weights(X, y):\n",
    "    nx = X.shape[0]\n",
    "    oa = np.ones((nx, 1))\n",
    "    nX = np.concatenate([oa,X], axis = 1)\n",
    "    wt = np.dot(np.linalg.inv(np.dot(nX.T, nX)), np.dot(nX.T, y))\n",
    "    return wt\n",
    "\n",
    "def get_polynomial_x(x):\n",
    "    nx = x.shape[0]\n",
    "    x1, x2 = x[:, 0:1], x[:, 1:]\n",
    "    return np.concatenate([np.ones((nx,1)), x1, x1**2, x1**3], axis=1)\n",
    "\n",
    "\n",
    "def call_LR(file = \"lin_regression/regression_data_039.txt\"):\n",
    "    x, y = read_regression_file(file)\n",
    "    wt = get_weights(x,y)\n",
    "    return wt\n",
    "\n",
    "def call_PLR(file = \"poly_regression/poly_regression_data_039.txt\"):\n",
    "    x, y = read_regression_file(file)\n",
    "    px = get_polynomial_x(x)\n",
    "    wt = get_weights(px, y)\n",
    "    return wt\n",
    "\n",
    "def get_PC(X):\n",
    "    npX = X.shape[0]\n",
    "    mX = np.mean(X, axis=0)\n",
    "    nX = X - mX \n",
    "    cov = np.dot(nX.T, nX) / (npX)\n",
    "    return cov \n"
   ]
  },
  {
   "cell_type": "code",
   "execution_count": 81,
   "metadata": {},
   "outputs": [
    {
     "name": "stdout",
     "output_type": "stream",
     "text": [
      "(10, 10)\n",
      "[[ 1.00763320e+00 -1.97152634e-02 -8.56962703e-04 -6.69079369e-03\n",
      "   2.11630857e-04 -4.59081577e-03  5.17764346e-03  2.29512184e-03\n",
      "  -8.13981365e-03  1.33397938e-03]\n",
      " [-1.97152634e-02  9.84638131e-01  2.07676008e-03 -1.63942960e-02\n",
      "  -7.73686297e-03 -3.46023698e-03 -3.06934438e-03 -3.99469545e-03\n",
      "  -9.14627397e-03  5.59180792e-03]\n",
      " [-8.56962703e-04  2.07676008e-03  9.90101056e-01 -4.04376234e-03\n",
      "  -6.74411137e-03 -2.25660599e-03  5.59999658e-03 -1.39513822e-02\n",
      "   8.77479433e-03  2.54783812e-04]\n",
      " [-6.69079369e-03 -1.63942960e-02 -4.04376234e-03  1.00092476e+00\n",
      "  -6.09706194e-03 -1.24938374e-03 -1.52195305e-02 -7.52790864e-04\n",
      "  -8.16496994e-03 -8.32263348e-03]\n",
      " [ 2.11630857e-04 -7.73686297e-03 -6.74411137e-03 -6.09706194e-03\n",
      "   9.90735287e-01 -9.91803892e-03 -1.03986956e-02 -1.82895085e-02\n",
      "   5.95121591e-03 -8.05371217e-03]\n",
      " [-4.59081577e-03 -3.46023698e-03 -2.25660599e-03 -1.24938374e-03\n",
      "  -9.91803892e-03  9.82085724e-01  2.02655568e-03 -5.60455583e-03\n",
      "   3.60210798e-03  1.22076259e-02]\n",
      " [ 5.17764346e-03 -3.06934438e-03  5.59999658e-03 -1.52195305e-02\n",
      "  -1.03986956e-02  2.02655568e-03  9.75695280e-01  2.97400413e-03\n",
      "   2.32059707e-02 -1.34724871e-02]\n",
      " [ 2.29512184e-03 -3.99469545e-03 -1.39513822e-02 -7.52790864e-04\n",
      "  -1.82895085e-02 -5.60455583e-03  2.97400413e-03  9.96384220e-01\n",
      "   1.46517612e-02 -8.88776272e-03]\n",
      " [-8.13981365e-03 -9.14627397e-03  8.77479433e-03 -8.16496994e-03\n",
      "   5.95121591e-03  3.60210798e-03  2.32059707e-02  1.46517612e-02\n",
      "   9.98660180e-01  3.24877906e-03]\n",
      " [ 1.33397938e-03  5.59180792e-03  2.54783812e-04 -8.32263348e-03\n",
      "  -8.05371217e-03  1.22076259e-02 -1.34724871e-02 -8.88776272e-03\n",
      "   3.24877906e-03  9.96924769e-01]]\n",
      "1.00763319520699\n"
     ]
    }
   ],
   "source": [
    "wt1 = call_LR()\n",
    "# wt2 = call_PLR()"
   ]
  },
  {
   "cell_type": "code",
   "execution_count": null,
   "metadata": {},
   "outputs": [],
   "source": []
  }
 ],
 "metadata": {
  "kernelspec": {
   "display_name": "cmoa2",
   "language": "python",
   "name": "python3"
  },
  "language_info": {
   "codemirror_mode": {
    "name": "ipython",
    "version": 3
   },
   "file_extension": ".py",
   "mimetype": "text/x-python",
   "name": "python",
   "nbconvert_exporter": "python",
   "pygments_lexer": "ipython3",
   "version": "3.11.5"
  }
 },
 "nbformat": 4,
 "nbformat_minor": 2
}
